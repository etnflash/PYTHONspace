{
  "nbformat": 4,
  "nbformat_minor": 0,
  "metadata": {
    "colab": {
      "name": "midTerm_problemsheet.ipynb",
      "provenance": [],
      "collapsed_sections": [],
      "include_colab_link": true
    },
    "kernelspec": {
      "name": "python3",
      "display_name": "Python 3"
    },
    "language_info": {
      "name": "python"
    }
  },
  "cells": [
    {
      "cell_type": "markdown",
      "metadata": {
        "id": "view-in-github",
        "colab_type": "text"
      },
      "source": [
        "<a href=\"https://colab.research.google.com/github/etnflash/PYTHONspace/blob/main/midTerm_problemsheet.ipynb\" target=\"_parent\"><img src=\"https://colab.research.google.com/assets/colab-badge.svg\" alt=\"Open In Colab\"/></a>"
      ]
    },
    {
      "cell_type": "markdown",
      "metadata": {
        "id": "uRbS6N4QsaxD"
      },
      "source": [
        "# 시험 안내\n",
        "- 시험 시간 : 2시간\n",
        "  - 시험 시간 1시간 30분이후 퇴실 가능\n",
        "\n",
        "- 파일 제출시 이름.ipynb으로 제출해주시기바랍니다\n",
        "- .ipynb 제출 방법은 [파일]-[다운로드]-[.ipynb 다운로드]후 이메일로 제출해주세요.\n",
        "- 이메일 : unicentrekor.dean@gmail.com\n"
      ]
    },
    {
      "cell_type": "markdown",
      "metadata": {
        "id": "0gmcTSid4FhP"
      },
      "source": [
        "문제 배점\n",
        "- 문제. 1 : 5점\n",
        "- 문제. 2 : 10점\n",
        "- 문제. 3 : 5점\n",
        "- 문제. 4 : 5점\n",
        "- 문제. 5 : 5점\n",
        "- 문제. 6 : 5점\n",
        "- 문제. 7 : 10점\n",
        "- 문제. 8 : 10점\n",
        "- 문제. 9 : 10점\n",
        "- 문제. 10 : 5점\n",
        "- 문제. 11 : 10점\n",
        "- 문제. 12 : 10점\n",
        "- 문제. 13 : 10점\n"
      ]
    },
    {
      "cell_type": "markdown",
      "metadata": {
        "id": "V_YMblJctRgs"
      },
      "source": [
        "## 문제 1. \n",
        "- 사용자로부터 두 개의 정수를 받아서 다음을 출력하는 프로그램을 작성하라. \n",
        "  - 1. 정수의 합, \n",
        "  - 2. 정수의 차, \n",
        "  - 3. 정수의 곱, \n",
        "  - 4. 정수의 평균, \n",
        "  - 5. 큰 수, 작은 수\n",
        "- 파이썬이 제공하는 내장 함수 sum(), max(), min()을 사용 가능\n",
        "- 두수의 차는 첫번째 정수 - 두번째 정수입니다\n",
        "\n",
        "- 출력 예시\n",
        "  - (입력)10\n",
        "  - (입력)20\n",
        "  - 두수의 합: 30\n",
        "  - 두수의 차: -10\n",
        "  - 두수의 곱: 200\n",
        "  - 두수의 평균: 15.0\n",
        "  - 큰수: 20 , 작은수: 20"
      ]
    },
    {
      "cell_type": "code",
      "metadata": {
        "id": "ebQbcvha5rxU"
      },
      "source": [
        "#1\n",
        "\n",
        "a = int(input(\"첫 번째 정수: \"))\n",
        "b = int(input(\"두 번째 정수: \"))\n",
        "\n",
        "plus = a + b\n",
        "print(\"1.정수의 합 : \", plus)\n",
        "minus = a - b\n",
        "print(\"2.정수의 차 : \", minus)\n",
        "multiply = a * b\n",
        "print(\"3.정수의 곱 : \", multiply)\n",
        "avg = (a + b) / 2\n",
        "print(\"4.정수의 평균 : \", avg)\n",
        "print(\"5.큰 수, 작은 수 :\", max(a,b),\",\", min(a,b))"
      ],
      "execution_count": null,
      "outputs": []
    },
    {
      "cell_type": "markdown",
      "metadata": {
        "id": "-XCME74-uDye"
      },
      "source": [
        "## 문제 2.\n",
        "- 자동 판매기를 시뮬레이션하는 프로그램을 작성해보자.  \n",
        "- 사용자로부터 삽입한 돈과 물건값을 입력받는다. \n",
        "- 자동 판매기는 1000원권만 받을 수 있고, 물건값은 100원 단위이다.\n",
        "- 잔돈은 동전으로만 계산 가능하다. \n",
        "- 잔돈의 동전은 500원, 100원짜리만 있다고 하자.\n",
        "- 입력 예시\n",
        "  - 1000원권 개수: 5\n",
        "  - 물건값: 2600\n",
        "- 출력 예시\n",
        "  - 500원 동전의 개수: 4\n",
        "  - 100원 동전의 개수: 4"
      ]
    },
    {
      "cell_type": "code",
      "metadata": {
        "id": "NquBX6pF5s3L"
      },
      "source": [
        "#2\n",
        "\n",
        "insert_thousand = int(input(\"1000원권 개수 : \"))\n",
        "product_price = int(input(\"물건값 : \"))\n",
        "\n",
        "change = insert_thousand * 1000 - product_price\n",
        "\n",
        "change500 = change // 500\n",
        "change100 = (change - (500 * change500)) // 100\n",
        "\n",
        "print(f\"500원권 동전의 개수 : {change500}\")\n",
        "print(f\"100원권 동전의 개수 : {change100}\")"
      ],
      "execution_count": null,
      "outputs": []
    },
    {
      "cell_type": "markdown",
      "metadata": {
        "id": "zCcOzAHevAqL"
      },
      "source": [
        "## 문제 3.\n",
        "- 다음 정상적으로 실행되지 않는 코드의 문제점을 찾고 Answer부분에 설명을 작성하시오."
      ]
    },
    {
      "cell_type": "code",
      "metadata": {
        "colab": {
          "base_uri": "https://localhost:8080/",
          "height": 131
        },
        "id": "Z1Ck1hLGu4rE",
        "outputId": "47d86317-d590-4421-ac3b-6999b4a26c48"
      },
      "source": [
        "if x = y :\n",
        "print(\"두개의 값은 같음!\")"
      ],
      "execution_count": null,
      "outputs": [
        {
          "output_type": "error",
          "ename": "SyntaxError",
          "evalue": "ignored",
          "traceback": [
            "\u001b[0;36m  File \u001b[0;32m\"<ipython-input-5-e02df9e31da1>\"\u001b[0;36m, line \u001b[0;32m1\u001b[0m\n\u001b[0;31m    if x = y :\u001b[0m\n\u001b[0m         ^\u001b[0m\n\u001b[0;31mSyntaxError\u001b[0m\u001b[0;31m:\u001b[0m invalid syntax\n"
          ]
        }
      ]
    },
    {
      "cell_type": "markdown",
      "metadata": {
        "id": "cG1na0wlvK-n"
      },
      "source": [
        "Answer: #3\n",
        "\n",
        "1. \"두개의 값을 비교 할 때는 대입연산자 = 가 아니라 동등 한지를 묻는 == 연산자를 써야 한다.\"\n",
        "2. \"추가적으로 x, y의 값이 정의 되지 않았으므로 == 를 써도 오류가 난다.\"\n",
        "3. \"if 문 안에 프린트 함수를 쓸 때 indentation 하지 않았다.\"\n"
      ]
    },
    {
      "cell_type": "markdown",
      "metadata": {
        "id": "dQ9i_5F1vaUY"
      },
      "source": [
        "## 문제 4.\n",
        "- 인터넷 쇼핑몰에서 배송료를 계산하는 코드를 작성해보자. \n",
        "- 만약 한국에서 제주도를 제외한 모든 곳은 배송료가 5000원이다. \n",
        "- 제주도는 10000원, 해외로 배송하는 경우에는 20000원이다.\n",
        "\n",
        "- 입력 예시\n",
        "  - 국가를 입력하시오: 한국\n",
        "  - 도를 입력하시오: 제주도\n",
        "- 출력 예시\n",
        "  - 배송료는 10000원입니다. "
      ]
    },
    {
      "cell_type": "code",
      "metadata": {
        "id": "ddRBHyy35uwE"
      },
      "source": [
        "#4\n",
        "#재밌게품 시간나면 하나더 체크.\n",
        "def kukga(nation):\n",
        "  return {\n",
        "      \"한국\" : 5000,\n",
        "  }.get(nation, 20000)\n",
        "\n",
        "nation = input(\"국가를 입력하시오 : \")\n",
        "do = input(\"도를 입력하시오 : \")\n",
        "\n",
        "print(f'배송료는 {10000 if do == \"제주도\" else kukga(nation)}원입니다.')"
      ],
      "execution_count": null,
      "outputs": []
    },
    {
      "cell_type": "markdown",
      "metadata": {
        "id": "YlIMRhDBwP6s"
      },
      "source": [
        "## 문제 5. \n",
        "- BMI(Body Mass Index)는 체중(kg)을 신장(m)의 제곱으로 나눈 값으로 체지방 축적을 잘 반영하기 때문에 비만도 판정에 많이 사용한다.\n",
        "- 사용자로부터 신장과 체중을 입력받아서 BMI 값에 따라서 다음과 같은 메시지를 출력하는 프로그램을 작성하여 보자.\n",
        "- BMI 판정 기준\n",
        "  - 18.5미만 : \"저체중\"\n",
        "  - 18.5 ~ 22.9 : \"정상\"\n",
        "  - 23 ~ 24.9 : \"비만 전 단계\"\n",
        "  - 25 ~ 29.9 : \"1단계 비만\"\n",
        "  - 30 ~ 34.9 : \"2단계 비만\"\n",
        "  - 35이상 : \"3단계 비만\"\n",
        "\n",
        "\n",
        "- 예시\n",
        "  - 신장(m): 1.76(입력)\n",
        "  - 체중: 61.6(입력)\n",
        "- 출력 예시\n",
        "  - 정상\n"
      ]
    },
    {
      "cell_type": "code",
      "metadata": {
        "id": "l7pY0u885vSq"
      },
      "source": [
        "#5\n",
        "height = float(input(\"신장(m): \"))\n",
        "weight = float(input(\"체중(kg): \"))\n",
        "bmi = weight / height**2\n",
        "print(\"bmi :\", bmi)\n",
        "\n",
        "if bmi < 18.5:\n",
        "  print(\"저체중\")\n",
        "elif bmi < 22.9:\n",
        "  print(\"정상\")\n",
        "elif bmi < 24.9:\n",
        "  print(\"비만 전 단계\")\n",
        "elif bmi < 29.9:\n",
        "  print(\"1단계 비만\")\n",
        "elif bmi < 34.9:\n",
        "  print(\"2단계 비만\")\n",
        "else:\n",
        "  print(\"3단계 비만\")"
      ],
      "execution_count": null,
      "outputs": []
    },
    {
      "cell_type": "markdown",
      "metadata": {
        "id": "VJ1gWtH5yAqc"
      },
      "source": [
        "## 문제 6.\n",
        "- 2부터 100 사이의 모든 짝수를 출력하는 반복 루프를 작성하시오\n",
        "- 2와 100은 포함시킨다"
      ]
    },
    {
      "cell_type": "code",
      "metadata": {
        "id": "U4Blm3pLxlNa"
      },
      "source": [
        "#6\n",
        "for i in range(2, 101, 2):\n",
        "  print(i)"
      ],
      "execution_count": null,
      "outputs": []
    },
    {
      "cell_type": "markdown",
      "metadata": {
        "id": "aaZGK1xnyKhG"
      },
      "source": [
        "## 문제 7.\n",
        "- 사용자가 입력한 정수의 합을 계산하는 프로그램을 작성하자. \n",
        "- 사용자가 0을 입력하기 전까지 정수를 계속하여 읽도록 한다.\n",
        "\n",
        "- 입력 예시\n",
        "  - 정수를 입력하시오(종료:0): 1\n",
        "  - 정수를 입력하시오(종료:0): 2\n",
        "  - 정수를 입력하시오(종료:0): 3\n",
        "  - 정수를 입력하시오(종료:0): 0\n",
        "- 출력 예시\n",
        "  - 합은 6 입니다 "
      ]
    },
    {
      "cell_type": "code",
      "metadata": {
        "id": "2kR4oR-25w2S"
      },
      "source": [
        "#7\n",
        "sum = 0\n",
        "while True :\n",
        "  num = int(input(\"정수를 입력하시오(종료0): \"))\n",
        "  if num == 0:\n",
        "    break\n",
        "  sum += num\n",
        "\n",
        "print(f\"합은 {sum}입니다.\")\n",
        "  "
      ],
      "execution_count": null,
      "outputs": []
    },
    {
      "cell_type": "markdown",
      "metadata": {
        "id": "QEzsE50Cyw0i"
      },
      "source": [
        "## 문제 8.\n",
        "- 두 개의 수를 받아서 오름차순으로 반환하는 함수 getSorted(x, y)를 작성하고 정렬된 두 수를 반환한다. \n",
        "- 반드시 함수의 반환 값은 2개가 되도록 처리한다.\n",
        "- 이 문제는 반드시 getSorted 함수를 작성해서 풀도록 합니다.\n",
        "\n",
        "- 입력 예시\n",
        "  - 첫 번째 정수: 30\n",
        "  - 두 번째 정수: 20\n",
        "- 출력 예시\n",
        "  - (20, 30)"
      ]
    },
    {
      "cell_type": "code",
      "metadata": {
        "id": "oGzUAME_5yMn"
      },
      "source": [
        "#8\n",
        "#체크.\n",
        "def getSorted(x, y):\n",
        "  list1 = [x, y]\n",
        "  return sorted(list1)\n",
        "\n",
        "a = int(input(\"첫 번째 정수 : \"))\n",
        "b = int(input(\"두 번째 정수 : \"))\n",
        "\n",
        "print(tuple(getSorted(a, b)))"
      ],
      "execution_count": null,
      "outputs": []
    },
    {
      "cell_type": "markdown",
      "metadata": {
        "id": "dfH7GDZ6zo0e"
      },
      "source": [
        "## 문제 9. \n",
        "- 사용자로부터 5개의 숫자를 읽어서 리스트에 저장하고 숫자들의 평균을 계산하여 출력한다.  \n",
        "- 또 숫자 중에서 평균보다 큰 숫자가 몇 개인지 출력하는 프로그램을 작성하시오.\n",
        "- 입력 예시\n",
        "  - 정수를 입력하세요: 10\n",
        "  - 정수를 입력하세요: 20\n",
        "  - 정수를 입력하세요: 30\n",
        "  - 정수를 입력하세요: 40\n",
        "  - 정수를 입력하세요: 50\n",
        "- 출력 예시\n",
        "  - 평균 : 30.0\n",
        "  - 평균보다 큰 숫자의 개수 : 2개"
      ]
    },
    {
      "cell_type": "code",
      "metadata": {
        "id": "jtd7xLOQ50DR"
      },
      "source": [
        "#9\n",
        "sum = 0\n",
        "cnt = 0\n",
        "list1 = []\n",
        "for i in range(5):\n",
        "  a = int(input(\"정수를 입력하세요 : \"))\n",
        "  sum += a\n",
        "  list1 += [a]\n",
        "\n",
        "# print(list1)\n",
        "for num in list1:\n",
        "  if num > avg:\n",
        "    cnt += 1\n",
        "avg = sum / 5\n",
        "print(f\"평균:{avg}\")\n",
        "print(f\"평균보다 큰 숫자의 개수 : {cnt}개\")"
      ],
      "execution_count": null,
      "outputs": []
    },
    {
      "cell_type": "markdown",
      "metadata": {
        "id": "WShK6iWx0WQs"
      },
      "source": [
        "## 문제 10.\n",
        "- 사용자가 입력한 문자열과 특정한 문자를 입력받아 문자열안에 포함된 문자의 빈도를 계산하는 프로그램을 작성해보자. \n",
        "- 예를 들어서 사용자에 문자열“Welcome to Python”에서 문자 “o”의 빈도를 계산하는 프로그램을 작성한다\n",
        "\n",
        "- 입력 예시\n",
        "  - 문자열을 입력하시오: Welcome to Python\n",
        "  - 찾고 싶은 문자를 입력해주세요: o\n",
        "- 출력 예시\n",
        "  - 문자열에 포함된 'o'의 개수 : 3"
      ]
    },
    {
      "cell_type": "code",
      "metadata": {
        "id": "MBdgzaMt504g",
        "colab": {
          "base_uri": "https://localhost:8080/"
        },
        "outputId": "f83d4a9e-9ca7-420a-e8af-fa5e050e37e3"
      },
      "source": [
        "munjayeol = input(\"문자열을 입력하시오 : \")\n",
        "munjakey = input(\"찾고 싶은 문자를 입력해주세요: \")\n",
        "munjayeol.lower() #대소문자 상관 없이 갯수 구하기 위해 모두 소문자로 바꿔줌.\n",
        "\n",
        "cnt = 0\n",
        "\n",
        "for letter in munjayeol:\n",
        "  if letter == munjakey:\n",
        "    cnt += 1\n",
        "\n",
        "print(f\"문자열에 포함된 '{munjakey}'의 개수 : {cnt}\")"
      ],
      "execution_count": null,
      "outputs": [
        {
          "output_type": "stream",
          "name": "stdout",
          "text": [
            "문자열을 입력하시오 : Welcome to Python\n",
            "찾고 싶은 문자를 입력해주세요: o\n",
            "문자열에 포함된 'o'의 개수 : 3\n"
          ]
        }
      ]
    },
    {
      "cell_type": "markdown",
      "metadata": {
        "id": "xBDyFIHt1TEp"
      },
      "source": [
        "## 문제 11. \n",
        "- 사용자로부터 생년월일을 입력받아 올바른 생년월일인지를 검사하는 프로그램을 작성하라. \n",
        "- 예를 들면 “19991301”과 같은 문자열은 올바른 생년월일이 아니다. \n",
        "- 13월 1일은 올바르지 않다.\n",
        "- 연도는 1900이후 출생만 허용하도록한다\n",
        "\n",
        "- 입력 예시\n",
        "  - 생년월일을을 입력하시오: 19700123\n",
        "  \n",
        "- 출력 예시\n",
        "  - 올바른 생년월일입니다."
      ]
    },
    {
      "cell_type": "code",
      "metadata": {
        "id": "KEru-hjO51Rm",
        "colab": {
          "base_uri": "https://localhost:8080/",
          "height": 574
        },
        "outputId": "e22b868f-ce1a-484c-a837-3af6c4b2aece"
      },
      "source": [
        "thirtyone = [1, 3, 5, 7, 8, 10, 12]\n",
        "thirty = [4,6,9,11]\n",
        "twentyeight = [2]\n",
        "\n",
        "while True:\n",
        "  birthday = input(\"생년월일을 입력하시오: \")\n",
        "  if int(birthday[0:4]) > 1900 and int(birthday[4:6]) <= 12 and int(birthday[4:6]) >= 1:\n",
        "    if int(birthday[6:8]) in thirtyone :\n",
        "      if int(birthday[6:8]) <= 31:\n",
        "        print(\"올바른 생년월일입니다.\")\n",
        "        break\n",
        "    elif int(birthday[6:8]) in thirty:\n",
        "      if int(birthday[6:8]) <= 30:\n",
        "        print(\"올바른 생년월일입니다.\")\n",
        "        break\n",
        "    elif int(birthday[6:8]) in twentyeight:\n",
        "      year = int(birthday[0:4])\n",
        "      if year%4 == 0 and year%100 != 0 or year%400 == 0:\n",
        "        if int(birthday[6:8]) <= 29:\n",
        "          print(\"올바른 생년월일입니다.\")\n",
        "          break\n",
        "      else:\n",
        "        if int(birthday[6:8]) <= 28:\n",
        "          print(\"올바른 생년월일입니다.\")\n",
        "          break\n"
      ],
      "execution_count": null,
      "outputs": [
        {
          "name": "stdout",
          "output_type": "stream",
          "text": [
            "생년월일을 입력하시오: 19910921\n"
          ]
        },
        {
          "output_type": "error",
          "ename": "KeyboardInterrupt",
          "evalue": "ignored",
          "traceback": [
            "\u001b[0;31m---------------------------------------------------------------------------\u001b[0m",
            "\u001b[0;31mKeyboardInterrupt\u001b[0m                         Traceback (most recent call last)",
            "\u001b[0;32m/usr/local/lib/python3.7/dist-packages/ipykernel/kernelbase.py\u001b[0m in \u001b[0;36m_input_request\u001b[0;34m(self, prompt, ident, parent, password)\u001b[0m\n\u001b[1;32m    728\u001b[0m             \u001b[0;32mtry\u001b[0m\u001b[0;34m:\u001b[0m\u001b[0;34m\u001b[0m\u001b[0;34m\u001b[0m\u001b[0m\n\u001b[0;32m--> 729\u001b[0;31m                 \u001b[0mident\u001b[0m\u001b[0;34m,\u001b[0m \u001b[0mreply\u001b[0m \u001b[0;34m=\u001b[0m \u001b[0mself\u001b[0m\u001b[0;34m.\u001b[0m\u001b[0msession\u001b[0m\u001b[0;34m.\u001b[0m\u001b[0mrecv\u001b[0m\u001b[0;34m(\u001b[0m\u001b[0mself\u001b[0m\u001b[0;34m.\u001b[0m\u001b[0mstdin_socket\u001b[0m\u001b[0;34m,\u001b[0m \u001b[0;36m0\u001b[0m\u001b[0;34m)\u001b[0m\u001b[0;34m\u001b[0m\u001b[0;34m\u001b[0m\u001b[0m\n\u001b[0m\u001b[1;32m    730\u001b[0m             \u001b[0;32mexcept\u001b[0m \u001b[0mException\u001b[0m\u001b[0;34m:\u001b[0m\u001b[0;34m\u001b[0m\u001b[0;34m\u001b[0m\u001b[0m\n",
            "\u001b[0;32m/usr/local/lib/python3.7/dist-packages/jupyter_client/session.py\u001b[0m in \u001b[0;36mrecv\u001b[0;34m(self, socket, mode, content, copy)\u001b[0m\n\u001b[1;32m    802\u001b[0m         \u001b[0;32mtry\u001b[0m\u001b[0;34m:\u001b[0m\u001b[0;34m\u001b[0m\u001b[0;34m\u001b[0m\u001b[0m\n\u001b[0;32m--> 803\u001b[0;31m             \u001b[0mmsg_list\u001b[0m \u001b[0;34m=\u001b[0m \u001b[0msocket\u001b[0m\u001b[0;34m.\u001b[0m\u001b[0mrecv_multipart\u001b[0m\u001b[0;34m(\u001b[0m\u001b[0mmode\u001b[0m\u001b[0;34m,\u001b[0m \u001b[0mcopy\u001b[0m\u001b[0;34m=\u001b[0m\u001b[0mcopy\u001b[0m\u001b[0;34m)\u001b[0m\u001b[0;34m\u001b[0m\u001b[0;34m\u001b[0m\u001b[0m\n\u001b[0m\u001b[1;32m    804\u001b[0m         \u001b[0;32mexcept\u001b[0m \u001b[0mzmq\u001b[0m\u001b[0;34m.\u001b[0m\u001b[0mZMQError\u001b[0m \u001b[0;32mas\u001b[0m \u001b[0me\u001b[0m\u001b[0;34m:\u001b[0m\u001b[0;34m\u001b[0m\u001b[0;34m\u001b[0m\u001b[0m\n",
            "\u001b[0;32m/usr/local/lib/python3.7/dist-packages/zmq/sugar/socket.py\u001b[0m in \u001b[0;36mrecv_multipart\u001b[0;34m(self, flags, copy, track)\u001b[0m\n\u001b[1;32m    624\u001b[0m         \"\"\"\n\u001b[0;32m--> 625\u001b[0;31m         \u001b[0mparts\u001b[0m \u001b[0;34m=\u001b[0m \u001b[0;34m[\u001b[0m\u001b[0mself\u001b[0m\u001b[0;34m.\u001b[0m\u001b[0mrecv\u001b[0m\u001b[0;34m(\u001b[0m\u001b[0mflags\u001b[0m\u001b[0;34m,\u001b[0m \u001b[0mcopy\u001b[0m\u001b[0;34m=\u001b[0m\u001b[0mcopy\u001b[0m\u001b[0;34m,\u001b[0m \u001b[0mtrack\u001b[0m\u001b[0;34m=\u001b[0m\u001b[0mtrack\u001b[0m\u001b[0;34m)\u001b[0m\u001b[0;34m]\u001b[0m\u001b[0;34m\u001b[0m\u001b[0;34m\u001b[0m\u001b[0m\n\u001b[0m\u001b[1;32m    626\u001b[0m         \u001b[0;31m# have first part already, only loop while more to receive\u001b[0m\u001b[0;34m\u001b[0m\u001b[0;34m\u001b[0m\u001b[0;34m\u001b[0m\u001b[0m\n",
            "\u001b[0;32mzmq/backend/cython/socket.pyx\u001b[0m in \u001b[0;36mzmq.backend.cython.socket.Socket.recv\u001b[0;34m()\u001b[0m\n",
            "\u001b[0;32mzmq/backend/cython/socket.pyx\u001b[0m in \u001b[0;36mzmq.backend.cython.socket.Socket.recv\u001b[0;34m()\u001b[0m\n",
            "\u001b[0;32mzmq/backend/cython/socket.pyx\u001b[0m in \u001b[0;36mzmq.backend.cython.socket._recv_copy\u001b[0;34m()\u001b[0m\n",
            "\u001b[0;32m/usr/local/lib/python3.7/dist-packages/zmq/backend/cython/checkrc.pxd\u001b[0m in \u001b[0;36mzmq.backend.cython.checkrc._check_rc\u001b[0;34m()\u001b[0m\n",
            "\u001b[0;31mKeyboardInterrupt\u001b[0m: ",
            "\nDuring handling of the above exception, another exception occurred:\n",
            "\u001b[0;31mKeyboardInterrupt\u001b[0m                         Traceback (most recent call last)",
            "\u001b[0;32m<ipython-input-61-afc249d4920b>\u001b[0m in \u001b[0;36m<module>\u001b[0;34m()\u001b[0m\n\u001b[1;32m      4\u001b[0m \u001b[0;34m\u001b[0m\u001b[0m\n\u001b[1;32m      5\u001b[0m \u001b[0;32mwhile\u001b[0m \u001b[0;32mTrue\u001b[0m\u001b[0;34m:\u001b[0m\u001b[0;34m\u001b[0m\u001b[0;34m\u001b[0m\u001b[0m\n\u001b[0;32m----> 6\u001b[0;31m   \u001b[0mbirthday\u001b[0m \u001b[0;34m=\u001b[0m \u001b[0minput\u001b[0m\u001b[0;34m(\u001b[0m\u001b[0;34m\"생년월일을 입력하시오: \"\u001b[0m\u001b[0;34m)\u001b[0m\u001b[0;34m\u001b[0m\u001b[0;34m\u001b[0m\u001b[0m\n\u001b[0m\u001b[1;32m      7\u001b[0m   \u001b[0;32mif\u001b[0m \u001b[0mint\u001b[0m\u001b[0;34m(\u001b[0m\u001b[0mbirthday\u001b[0m\u001b[0;34m[\u001b[0m\u001b[0;36m0\u001b[0m\u001b[0;34m:\u001b[0m\u001b[0;36m4\u001b[0m\u001b[0;34m]\u001b[0m\u001b[0;34m)\u001b[0m \u001b[0;34m>\u001b[0m \u001b[0;36m1900\u001b[0m \u001b[0;32mand\u001b[0m \u001b[0mint\u001b[0m\u001b[0;34m(\u001b[0m\u001b[0mbirthday\u001b[0m\u001b[0;34m[\u001b[0m\u001b[0;36m4\u001b[0m\u001b[0;34m:\u001b[0m\u001b[0;36m6\u001b[0m\u001b[0;34m]\u001b[0m\u001b[0;34m)\u001b[0m \u001b[0;34m<=\u001b[0m \u001b[0;36m12\u001b[0m \u001b[0;32mand\u001b[0m \u001b[0mint\u001b[0m\u001b[0;34m(\u001b[0m\u001b[0mbirthday\u001b[0m\u001b[0;34m[\u001b[0m\u001b[0;36m4\u001b[0m\u001b[0;34m:\u001b[0m\u001b[0;36m6\u001b[0m\u001b[0;34m]\u001b[0m\u001b[0;34m)\u001b[0m \u001b[0;34m>=\u001b[0m \u001b[0;36m1\u001b[0m\u001b[0;34m:\u001b[0m\u001b[0;34m\u001b[0m\u001b[0;34m\u001b[0m\u001b[0m\n\u001b[1;32m      8\u001b[0m     \u001b[0;32mif\u001b[0m \u001b[0mint\u001b[0m\u001b[0;34m(\u001b[0m\u001b[0mbirthday\u001b[0m\u001b[0;34m[\u001b[0m\u001b[0;36m6\u001b[0m\u001b[0;34m:\u001b[0m\u001b[0;36m8\u001b[0m\u001b[0;34m]\u001b[0m\u001b[0;34m)\u001b[0m \u001b[0;32min\u001b[0m \u001b[0mthirtyone\u001b[0m \u001b[0;34m:\u001b[0m\u001b[0;34m\u001b[0m\u001b[0;34m\u001b[0m\u001b[0m\n",
            "\u001b[0;32m/usr/local/lib/python3.7/dist-packages/ipykernel/kernelbase.py\u001b[0m in \u001b[0;36mraw_input\u001b[0;34m(self, prompt)\u001b[0m\n\u001b[1;32m    702\u001b[0m             \u001b[0mself\u001b[0m\u001b[0;34m.\u001b[0m\u001b[0m_parent_ident\u001b[0m\u001b[0;34m,\u001b[0m\u001b[0;34m\u001b[0m\u001b[0;34m\u001b[0m\u001b[0m\n\u001b[1;32m    703\u001b[0m             \u001b[0mself\u001b[0m\u001b[0;34m.\u001b[0m\u001b[0m_parent_header\u001b[0m\u001b[0;34m,\u001b[0m\u001b[0;34m\u001b[0m\u001b[0;34m\u001b[0m\u001b[0m\n\u001b[0;32m--> 704\u001b[0;31m             \u001b[0mpassword\u001b[0m\u001b[0;34m=\u001b[0m\u001b[0;32mFalse\u001b[0m\u001b[0;34m,\u001b[0m\u001b[0;34m\u001b[0m\u001b[0;34m\u001b[0m\u001b[0m\n\u001b[0m\u001b[1;32m    705\u001b[0m         )\n\u001b[1;32m    706\u001b[0m \u001b[0;34m\u001b[0m\u001b[0m\n",
            "\u001b[0;32m/usr/local/lib/python3.7/dist-packages/ipykernel/kernelbase.py\u001b[0m in \u001b[0;36m_input_request\u001b[0;34m(self, prompt, ident, parent, password)\u001b[0m\n\u001b[1;32m    732\u001b[0m             \u001b[0;32mexcept\u001b[0m \u001b[0mKeyboardInterrupt\u001b[0m\u001b[0;34m:\u001b[0m\u001b[0;34m\u001b[0m\u001b[0;34m\u001b[0m\u001b[0m\n\u001b[1;32m    733\u001b[0m                 \u001b[0;31m# re-raise KeyboardInterrupt, to truncate traceback\u001b[0m\u001b[0;34m\u001b[0m\u001b[0;34m\u001b[0m\u001b[0;34m\u001b[0m\u001b[0m\n\u001b[0;32m--> 734\u001b[0;31m                 \u001b[0;32mraise\u001b[0m \u001b[0mKeyboardInterrupt\u001b[0m\u001b[0;34m\u001b[0m\u001b[0;34m\u001b[0m\u001b[0m\n\u001b[0m\u001b[1;32m    735\u001b[0m             \u001b[0;32melse\u001b[0m\u001b[0;34m:\u001b[0m\u001b[0;34m\u001b[0m\u001b[0;34m\u001b[0m\u001b[0m\n\u001b[1;32m    736\u001b[0m                 \u001b[0;32mbreak\u001b[0m\u001b[0;34m\u001b[0m\u001b[0;34m\u001b[0m\u001b[0m\n",
            "\u001b[0;31mKeyboardInterrupt\u001b[0m: "
          ]
        }
      ]
    },
    {
      "cell_type": "markdown",
      "metadata": {
        "id": "KUbcFtxj1uwF"
      },
      "source": [
        "## 문제 12.\n",
        "- 전화 키패드에는 각 숫자키마다 3개의 문자가 적혀있다. \n",
        "- 사용자가 입력한 문자열을 전화기의 숫자키로 암호화하는 프로그램을 작성해보자.\n",
        "- ![Screen Shot 2021-10-28 at 11.59.44 AM 1.png](data:image/png;base64,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)\n",
        "\n",
        "- 입력 예시\n",
        "  - 문자열을 입력하시오: NUMBER\n",
        "- 출력 예시:\n",
        "  - 686237"
      ]
    },
    {
      "cell_type": "code",
      "metadata": {
        "id": "TQpkP-vH52VS",
        "colab": {
          "base_uri": "https://localhost:8080/",
          "height": 556
        },
        "outputId": "3341168e-e612-429f-8257-151d6903efa8"
      },
      "source": [
        "write_munja = input(\"문자열을 입력하시오 : \")\n",
        "lowerd_munja = write_munja.lower()\n",
        "numbers = {\n",
        "  2 : ['a','b','c'],\n",
        "  3 : ['d','e','f'],\n",
        "  4 : ['g','h','i'],\n",
        "  5 : ['j','k','l'],\n",
        "  6 : ['m','n','o'],\n",
        "  7 : ['p','q','r','s'],\n",
        "  8 : ['t','u','v'],\n",
        "  9 : ['w','x','y','z']\n",
        "}\n",
        "list1 = []\n",
        "for key, values in numbers.items():\n",
        "  for i in range(len(lowerd_munja)):\n",
        "    if lowerd_munja[i] in values:\n",
        "      list1 += [key]\n",
        "\n",
        "print(list1)\n",
        "\n"
      ],
      "execution_count": null,
      "outputs": [
        {
          "output_type": "error",
          "ename": "KeyboardInterrupt",
          "evalue": "ignored",
          "traceback": [
            "\u001b[0;31m---------------------------------------------------------------------------\u001b[0m",
            "\u001b[0;31mKeyboardInterrupt\u001b[0m                         Traceback (most recent call last)",
            "\u001b[0;32m/usr/local/lib/python3.7/dist-packages/ipykernel/kernelbase.py\u001b[0m in \u001b[0;36m_input_request\u001b[0;34m(self, prompt, ident, parent, password)\u001b[0m\n\u001b[1;32m    728\u001b[0m             \u001b[0;32mtry\u001b[0m\u001b[0;34m:\u001b[0m\u001b[0;34m\u001b[0m\u001b[0;34m\u001b[0m\u001b[0m\n\u001b[0;32m--> 729\u001b[0;31m                 \u001b[0mident\u001b[0m\u001b[0;34m,\u001b[0m \u001b[0mreply\u001b[0m \u001b[0;34m=\u001b[0m \u001b[0mself\u001b[0m\u001b[0;34m.\u001b[0m\u001b[0msession\u001b[0m\u001b[0;34m.\u001b[0m\u001b[0mrecv\u001b[0m\u001b[0;34m(\u001b[0m\u001b[0mself\u001b[0m\u001b[0;34m.\u001b[0m\u001b[0mstdin_socket\u001b[0m\u001b[0;34m,\u001b[0m \u001b[0;36m0\u001b[0m\u001b[0;34m)\u001b[0m\u001b[0;34m\u001b[0m\u001b[0;34m\u001b[0m\u001b[0m\n\u001b[0m\u001b[1;32m    730\u001b[0m             \u001b[0;32mexcept\u001b[0m \u001b[0mException\u001b[0m\u001b[0;34m:\u001b[0m\u001b[0;34m\u001b[0m\u001b[0;34m\u001b[0m\u001b[0m\n",
            "\u001b[0;32m/usr/local/lib/python3.7/dist-packages/jupyter_client/session.py\u001b[0m in \u001b[0;36mrecv\u001b[0;34m(self, socket, mode, content, copy)\u001b[0m\n\u001b[1;32m    802\u001b[0m         \u001b[0;32mtry\u001b[0m\u001b[0;34m:\u001b[0m\u001b[0;34m\u001b[0m\u001b[0;34m\u001b[0m\u001b[0m\n\u001b[0;32m--> 803\u001b[0;31m             \u001b[0mmsg_list\u001b[0m \u001b[0;34m=\u001b[0m \u001b[0msocket\u001b[0m\u001b[0;34m.\u001b[0m\u001b[0mrecv_multipart\u001b[0m\u001b[0;34m(\u001b[0m\u001b[0mmode\u001b[0m\u001b[0;34m,\u001b[0m \u001b[0mcopy\u001b[0m\u001b[0;34m=\u001b[0m\u001b[0mcopy\u001b[0m\u001b[0;34m)\u001b[0m\u001b[0;34m\u001b[0m\u001b[0;34m\u001b[0m\u001b[0m\n\u001b[0m\u001b[1;32m    804\u001b[0m         \u001b[0;32mexcept\u001b[0m \u001b[0mzmq\u001b[0m\u001b[0;34m.\u001b[0m\u001b[0mZMQError\u001b[0m \u001b[0;32mas\u001b[0m \u001b[0me\u001b[0m\u001b[0;34m:\u001b[0m\u001b[0;34m\u001b[0m\u001b[0;34m\u001b[0m\u001b[0m\n",
            "\u001b[0;32m/usr/local/lib/python3.7/dist-packages/zmq/sugar/socket.py\u001b[0m in \u001b[0;36mrecv_multipart\u001b[0;34m(self, flags, copy, track)\u001b[0m\n\u001b[1;32m    624\u001b[0m         \"\"\"\n\u001b[0;32m--> 625\u001b[0;31m         \u001b[0mparts\u001b[0m \u001b[0;34m=\u001b[0m \u001b[0;34m[\u001b[0m\u001b[0mself\u001b[0m\u001b[0;34m.\u001b[0m\u001b[0mrecv\u001b[0m\u001b[0;34m(\u001b[0m\u001b[0mflags\u001b[0m\u001b[0;34m,\u001b[0m \u001b[0mcopy\u001b[0m\u001b[0;34m=\u001b[0m\u001b[0mcopy\u001b[0m\u001b[0;34m,\u001b[0m \u001b[0mtrack\u001b[0m\u001b[0;34m=\u001b[0m\u001b[0mtrack\u001b[0m\u001b[0;34m)\u001b[0m\u001b[0;34m]\u001b[0m\u001b[0;34m\u001b[0m\u001b[0;34m\u001b[0m\u001b[0m\n\u001b[0m\u001b[1;32m    626\u001b[0m         \u001b[0;31m# have first part already, only loop while more to receive\u001b[0m\u001b[0;34m\u001b[0m\u001b[0;34m\u001b[0m\u001b[0;34m\u001b[0m\u001b[0m\n",
            "\u001b[0;32mzmq/backend/cython/socket.pyx\u001b[0m in \u001b[0;36mzmq.backend.cython.socket.Socket.recv\u001b[0;34m()\u001b[0m\n",
            "\u001b[0;32mzmq/backend/cython/socket.pyx\u001b[0m in \u001b[0;36mzmq.backend.cython.socket.Socket.recv\u001b[0;34m()\u001b[0m\n",
            "\u001b[0;32mzmq/backend/cython/socket.pyx\u001b[0m in \u001b[0;36mzmq.backend.cython.socket._recv_copy\u001b[0;34m()\u001b[0m\n",
            "\u001b[0;32m/usr/local/lib/python3.7/dist-packages/zmq/backend/cython/checkrc.pxd\u001b[0m in \u001b[0;36mzmq.backend.cython.checkrc._check_rc\u001b[0;34m()\u001b[0m\n",
            "\u001b[0;31mKeyboardInterrupt\u001b[0m: ",
            "\nDuring handling of the above exception, another exception occurred:\n",
            "\u001b[0;31mKeyboardInterrupt\u001b[0m                         Traceback (most recent call last)",
            "\u001b[0;32m<ipython-input-50-367114dde545>\u001b[0m in \u001b[0;36m<module>\u001b[0;34m()\u001b[0m\n\u001b[0;32m----> 1\u001b[0;31m \u001b[0mwrite_munja\u001b[0m \u001b[0;34m=\u001b[0m \u001b[0minput\u001b[0m\u001b[0;34m(\u001b[0m\u001b[0;34m\"문자열을 입력하시오 : \"\u001b[0m\u001b[0;34m)\u001b[0m\u001b[0;34m\u001b[0m\u001b[0;34m\u001b[0m\u001b[0m\n\u001b[0m\u001b[1;32m      2\u001b[0m \u001b[0mlowerd_munja\u001b[0m \u001b[0;34m=\u001b[0m \u001b[0mwrite_munja\u001b[0m\u001b[0;34m.\u001b[0m\u001b[0mlower\u001b[0m\u001b[0;34m(\u001b[0m\u001b[0;34m)\u001b[0m\u001b[0;34m\u001b[0m\u001b[0;34m\u001b[0m\u001b[0m\n\u001b[1;32m      3\u001b[0m numbers = {\n\u001b[1;32m      4\u001b[0m   \u001b[0;36m2\u001b[0m \u001b[0;34m:\u001b[0m \u001b[0;34m[\u001b[0m\u001b[0;34m'a'\u001b[0m\u001b[0;34m,\u001b[0m\u001b[0;34m'b'\u001b[0m\u001b[0;34m,\u001b[0m\u001b[0;34m'c'\u001b[0m\u001b[0;34m]\u001b[0m\u001b[0;34m,\u001b[0m\u001b[0;34m\u001b[0m\u001b[0;34m\u001b[0m\u001b[0m\n\u001b[1;32m      5\u001b[0m   \u001b[0;36m3\u001b[0m \u001b[0;34m:\u001b[0m \u001b[0;34m[\u001b[0m\u001b[0;34m'd'\u001b[0m\u001b[0;34m,\u001b[0m\u001b[0;34m'e'\u001b[0m\u001b[0;34m,\u001b[0m\u001b[0;34m'f'\u001b[0m\u001b[0;34m]\u001b[0m\u001b[0;34m,\u001b[0m\u001b[0;34m\u001b[0m\u001b[0;34m\u001b[0m\u001b[0m\n",
            "\u001b[0;32m/usr/local/lib/python3.7/dist-packages/ipykernel/kernelbase.py\u001b[0m in \u001b[0;36mraw_input\u001b[0;34m(self, prompt)\u001b[0m\n\u001b[1;32m    702\u001b[0m             \u001b[0mself\u001b[0m\u001b[0;34m.\u001b[0m\u001b[0m_parent_ident\u001b[0m\u001b[0;34m,\u001b[0m\u001b[0;34m\u001b[0m\u001b[0;34m\u001b[0m\u001b[0m\n\u001b[1;32m    703\u001b[0m             \u001b[0mself\u001b[0m\u001b[0;34m.\u001b[0m\u001b[0m_parent_header\u001b[0m\u001b[0;34m,\u001b[0m\u001b[0;34m\u001b[0m\u001b[0;34m\u001b[0m\u001b[0m\n\u001b[0;32m--> 704\u001b[0;31m             \u001b[0mpassword\u001b[0m\u001b[0;34m=\u001b[0m\u001b[0;32mFalse\u001b[0m\u001b[0;34m,\u001b[0m\u001b[0;34m\u001b[0m\u001b[0;34m\u001b[0m\u001b[0m\n\u001b[0m\u001b[1;32m    705\u001b[0m         )\n\u001b[1;32m    706\u001b[0m \u001b[0;34m\u001b[0m\u001b[0m\n",
            "\u001b[0;32m/usr/local/lib/python3.7/dist-packages/ipykernel/kernelbase.py\u001b[0m in \u001b[0;36m_input_request\u001b[0;34m(self, prompt, ident, parent, password)\u001b[0m\n\u001b[1;32m    732\u001b[0m             \u001b[0;32mexcept\u001b[0m \u001b[0mKeyboardInterrupt\u001b[0m\u001b[0;34m:\u001b[0m\u001b[0;34m\u001b[0m\u001b[0;34m\u001b[0m\u001b[0m\n\u001b[1;32m    733\u001b[0m                 \u001b[0;31m# re-raise KeyboardInterrupt, to truncate traceback\u001b[0m\u001b[0;34m\u001b[0m\u001b[0;34m\u001b[0m\u001b[0;34m\u001b[0m\u001b[0m\n\u001b[0;32m--> 734\u001b[0;31m                 \u001b[0;32mraise\u001b[0m \u001b[0mKeyboardInterrupt\u001b[0m\u001b[0;34m\u001b[0m\u001b[0;34m\u001b[0m\u001b[0m\n\u001b[0m\u001b[1;32m    735\u001b[0m             \u001b[0;32melse\u001b[0m\u001b[0;34m:\u001b[0m\u001b[0;34m\u001b[0m\u001b[0;34m\u001b[0m\u001b[0m\n\u001b[1;32m    736\u001b[0m                 \u001b[0;32mbreak\u001b[0m\u001b[0;34m\u001b[0m\u001b[0;34m\u001b[0m\u001b[0m\n",
            "\u001b[0;31mKeyboardInterrupt\u001b[0m: "
          ]
        }
      ]
    },
    {
      "cell_type": "markdown",
      "metadata": {
        "id": "UatIFXIb2aOW"
      },
      "source": [
        "## 문제 13.\n",
        "- 딕셔너리를 사용하여서 친구들의 이름과  전화번호를 저장해보자. \n",
        "- 사용자로부터 친구들의 이름과 전화번호를 입력받고 딕셔너리에 저장한다. \n",
        "- 입력받은 전화번호 정보는 파일(address.csv)로 저장한다.\n",
        "- 사용자 입력이 끝난 후에 사람이름을 검색하는 기능을 구현하시오.\n",
        "\n",
        "- 입력 예시\n",
        "  - (입력모드)이름을 입력하시오: 홍길동\n",
        "  - 전화번호를 입력하시오: 111-2222\n",
        "  - (입력모드)이름을 입력하시오: 김철수\n",
        "  - 전화번호를 입력하시오: 222-3333\n",
        "  - (입력모드)이름을 입력하시오: [Enter]\n",
        "  - (검색모드)이름을 입력하시오: 홍길동\n",
        "\n",
        "\n",
        "- 출력 예시\n",
        "  - 검색 대상이 있는 경우\n",
        "    - 홍길동의 전화번호는 111-2222 입니다.\n",
        "  - 검색 대상이 없는 경우\n",
        "    - 양군의 전화번호는 리스트에 없습니다.\n",
        "\n",
        "- 참고: 입력창에 키보드 [Enter]를 치면 \"\" 공백이 반환된다."
      ]
    },
    {
      "cell_type": "code",
      "metadata": {
        "id": "1IQsP6G153Pp",
        "colab": {
          "base_uri": "https://localhost:8080/"
        },
        "outputId": "cd5e1aa2-ba3b-4042-a3a3-8837d1150dad"
      },
      "source": [
        "\n",
        "beonhobu = dict()\n",
        "\n",
        "while True:\n",
        "  name = input(\"(입력모드)이름을 입력하시오 : \")\n",
        "  if name == '':\n",
        "    break\n",
        "  phone_number= input(\"전화번호를 입력하시오 : \")\n",
        "  beonhobu[name] = phone_number\n",
        "\n",
        "nugu = input(\"(검색모드)이름을 입력하시오 : \")\n",
        "\n",
        "if nugu in beonhobu:\n",
        "  print(f\"{nugu}의 전화번호는\", beonhobu.get(nugu), \"입니다.\")\n",
        "else:\n",
        "  print(f\"{nugu}의 전화번호는 리스트에 없습니다.\")\n"
      ],
      "execution_count": null,
      "outputs": [
        {
          "output_type": "stream",
          "name": "stdout",
          "text": [
            "(입력모드)이름을 입력하시오 : 홍길동\n",
            "전화번호를 입력하시오 : 111-2222\n",
            "(입력모드)이름을 입력하시오 : 김철수\n",
            "전화번호를 입력하시오 : 222-3333\n",
            "(입력모드)이름을 입력하시오 : \n",
            "(검색모드)이름을 입력하시오 : 홍길동\n",
            "홍길동의 전화번호는 111-2222 입니다.\n"
          ]
        }
      ]
    },
    {
      "cell_type": "code",
      "metadata": {
        "id": "XLSt4LQt3wWD",
        "colab": {
          "base_uri": "https://localhost:8080/"
        },
        "outputId": "a2d98f7f-18f7-4a01-cd20-056a9413cdb0"
      },
      "source": [
        "print(beonhobu)\n",
        "f = open(\"address.csv\", 'w')\n",
        "for key, value in beonhobu.items():\n",
        "  f.write(key)\n",
        "  f.write(value)\n",
        "f.close()"
      ],
      "execution_count": null,
      "outputs": [
        {
          "output_type": "stream",
          "name": "stdout",
          "text": [
            "{'홍길동': '111', '김철수': '222'}\n"
          ]
        }
      ]
    }
  ]
}